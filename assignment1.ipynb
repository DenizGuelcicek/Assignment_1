{
  "nbformat": 4,
  "nbformat_minor": 0,
  "metadata": {
    "colab": {
      "name": "assignment1.ipynb",
      "provenance": [],
      "collapsed_sections": [],
      "include_colab_link": true
    },
    "kernelspec": {
      "name": "python3",
      "display_name": "Python 3"
    },
    "accelerator": "GPU"
  },
  "cells": [
    {
      "cell_type": "markdown",
      "metadata": {
        "id": "view-in-github",
        "colab_type": "text"
      },
      "source": [
        "<a href=\"https://colab.research.google.com/github/DenizGuelcicek/Assignment_1/blob/master/assignment1.ipynb\" target=\"_parent\"><img src=\"https://colab.research.google.com/assets/colab-badge.svg\" alt=\"Open In Colab\"/></a>"
      ]
    },
    {
      "cell_type": "code",
      "metadata": {
        "id": "gXj-T96BkG_P",
        "colab_type": "code",
        "colab": {}
      },
      "source": [
        "import pandas as pd"
      ],
      "execution_count": 0,
      "outputs": []
    },
    {
      "cell_type": "code",
      "metadata": {
        "id": "8d1DxBP3k2sy",
        "colab_type": "code",
        "colab": {}
      },
      "source": [
        "\n",
        "DATA_URL = 'https://raw.githubusercontent.com/pds1920/_a1-template/master/data/'\n",
        "\n",
        "transactions    = pd.read_csv(DATA_URL + '/sales_train.csv.gz')\n",
        "items           = pd.read_csv(DATA_URL + '/items.csv')\n",
        "item_categories = pd.read_csv(DATA_URL + '/item_categories.csv')"
      ],
      "execution_count": 0,
      "outputs": []
    },
    {
      "cell_type": "code",
      "metadata": {
        "id": "grQKOKrqmiC7",
        "colab_type": "code",
        "outputId": "c52334d2-85a6-40a9-b93d-43f4cb8d04e7",
        "colab": {
          "base_uri": "https://localhost:8080/",
          "height": 34
        }
      },
      "source": [
        "transactions.shape\n",
        "# shape of the datafrane transactions"
      ],
      "execution_count": 0,
      "outputs": [
        {
          "output_type": "execute_result",
          "data": {
            "text/plain": [
              "(1400001, 6)"
            ]
          },
          "metadata": {
            "tags": []
          },
          "execution_count": 162
        }
      ]
    },
    {
      "cell_type": "code",
      "metadata": {
        "id": "FcBw2jUVm4-x",
        "colab_type": "code",
        "outputId": "e424a398-18f3-40dc-da38-0262849cc0ae",
        "colab": {
          "base_uri": "https://localhost:8080/",
          "height": 34
        }
      },
      "source": [
        "items.shape\n",
        "# shape of the dataframe items"
      ],
      "execution_count": 0,
      "outputs": [
        {
          "output_type": "execute_result",
          "data": {
            "text/plain": [
              "(22170, 3)"
            ]
          },
          "metadata": {
            "tags": []
          },
          "execution_count": 163
        }
      ]
    },
    {
      "cell_type": "code",
      "metadata": {
        "id": "15LBXX8tnAYO",
        "colab_type": "code",
        "outputId": "8af50961-547b-4977-8f41-0511e1fe3a84",
        "colab": {
          "base_uri": "https://localhost:8080/",
          "height": 34
        }
      },
      "source": [
        "item_categories.shape\n",
        "# shape of the dataframe item categories "
      ],
      "execution_count": 0,
      "outputs": [
        {
          "output_type": "execute_result",
          "data": {
            "text/plain": [
              "(84, 2)"
            ]
          },
          "metadata": {
            "tags": []
          },
          "execution_count": 164
        }
      ]
    },
    {
      "cell_type": "code",
      "metadata": {
        "id": "XJmWD9T7lRdA",
        "colab_type": "code",
        "colab": {}
      },
      "source": [
        "items"
      ],
      "execution_count": 0,
      "outputs": []
    },
    {
      "cell_type": "code",
      "metadata": {
        "id": "SfKnksTQrKo6",
        "colab_type": "code",
        "colab": {}
      },
      "source": [
        "item_categories"
      ],
      "execution_count": 0,
      "outputs": []
    },
    {
      "cell_type": "code",
      "metadata": {
        "id": "IuaBuBYzlYLb",
        "colab_type": "code",
        "colab": {}
      },
      "source": [
        "transactions.head(30)\n",
        "\n",
        "# several rows of dataframes"
      ],
      "execution_count": 0,
      "outputs": []
    },
    {
      "cell_type": "code",
      "metadata": {
        "id": "PFr9UkWvnhRb",
        "colab_type": "code",
        "colab": {}
      },
      "source": [
        "items.head(100)"
      ],
      "execution_count": 0,
      "outputs": []
    },
    {
      "cell_type": "code",
      "metadata": {
        "id": "YhRrfnG1nvmi",
        "colab_type": "code",
        "colab": {}
      },
      "source": [
        "item_categories[item_categories.item_category_id==40]"
      ],
      "execution_count": 0,
      "outputs": []
    },
    {
      "cell_type": "code",
      "metadata": {
        "id": "czzY25Y7tTC-",
        "colab_type": "code",
        "colab": {}
      },
      "source": [
        "transactions.describe()"
      ],
      "execution_count": 0,
      "outputs": []
    },
    {
      "cell_type": "code",
      "metadata": {
        "id": "0OyJxlsar6dY",
        "colab_type": "code",
        "colab": {}
      },
      "source": [
        "transactions[transactions.item_cnt_day<0] #goods returned "
      ],
      "execution_count": 0,
      "outputs": []
    },
    {
      "cell_type": "code",
      "metadata": {
        "id": "ODuw56kVzEhC",
        "colab_type": "code",
        "outputId": "8dbe75b8-2cf9-476b-df3f-956f7630a240",
        "colab": {
          "base_uri": "https://localhost:8080/",
          "height": 34
        }
      },
      "source": [
        "transactions.item_price.sum(axis=0) #  total sales"
      ],
      "execution_count": 0,
      "outputs": [
        {
          "output_type": "execute_result",
          "data": {
            "text/plain": [
              "1376608154.6547163"
            ]
          },
          "metadata": {
            "tags": []
          },
          "execution_count": 6
        }
      ]
    },
    {
      "cell_type": "code",
      "metadata": {
        "id": "q_PAYCHrAqxT",
        "colab_type": "code",
        "outputId": "9ad8c913-af2d-4a79-e912-513c307ef1d6",
        "colab": {
          "base_uri": "https://localhost:8080/",
          "height": 34
        }
      },
      "source": [
        "transactions.item_price.sum() #  total sales"
      ],
      "execution_count": 0,
      "outputs": [
        {
          "output_type": "execute_result",
          "data": {
            "text/plain": [
              "1376608154.6547163"
            ]
          },
          "metadata": {
            "tags": []
          },
          "execution_count": 173
        }
      ]
    },
    {
      "cell_type": "code",
      "metadata": {
        "id": "bx-KmhNdwjsc",
        "colab_type": "code",
        "colab": {}
      },
      "source": [
        "#split date field into [day, month, year] components and convert it to pd.datetime type with pd.to_datetime function\n",
        "transactions[\"day\"] = pd.to_datetime(transactions[\"date\"]).dt.day         \n",
        "transactions[\"month\"] = pd.to_datetime(transactions[\"date\"]).dt.month\n",
        "transactions[\"year\"] = pd.to_datetime(transactions[\"date\"]).dt.year\n",
        "transactions"
      ],
      "execution_count": 0,
      "outputs": []
    },
    {
      "cell_type": "code",
      "metadata": {
        "id": "n3EnIsxZaBBT",
        "colab_type": "code",
        "outputId": "2be34e58-4121-4c58-b868-5d4286f35d6a",
        "colab": {
          "base_uri": "https://localhost:8080/",
          "height": 419
        }
      },
      "source": [
        "max_revenue = transactions[(transactions[\"year\"]==2014) & (transactions[\"month\"]==6) & (transactions[\"item_cnt_day\"]>0)]\n",
        "max_revenue\n"
      ],
      "execution_count": 0,
      "outputs": [
        {
          "output_type": "execute_result",
          "data": {
            "text/html": [
              "<div>\n",
              "<style scoped>\n",
              "    .dataframe tbody tr th:only-of-type {\n",
              "        vertical-align: middle;\n",
              "    }\n",
              "\n",
              "    .dataframe tbody tr th {\n",
              "        vertical-align: top;\n",
              "    }\n",
              "\n",
              "    .dataframe thead th {\n",
              "        text-align: right;\n",
              "    }\n",
              "</style>\n",
              "<table border=\"1\" class=\"dataframe\">\n",
              "  <thead>\n",
              "    <tr style=\"text-align: right;\">\n",
              "      <th></th>\n",
              "      <th>date</th>\n",
              "      <th>date_block_num</th>\n",
              "      <th>shop_id</th>\n",
              "      <th>item_id</th>\n",
              "      <th>item_price</th>\n",
              "      <th>item_cnt_day</th>\n",
              "      <th>day</th>\n",
              "      <th>month</th>\n",
              "      <th>year</th>\n",
              "    </tr>\n",
              "  </thead>\n",
              "  <tbody>\n",
              "    <tr>\n",
              "      <th>267591</th>\n",
              "      <td>06.01.2014</td>\n",
              "      <td>12</td>\n",
              "      <td>54</td>\n",
              "      <td>10287</td>\n",
              "      <td>98.0</td>\n",
              "      <td>1.0</td>\n",
              "      <td>1</td>\n",
              "      <td>6</td>\n",
              "      <td>2014</td>\n",
              "    </tr>\n",
              "    <tr>\n",
              "      <th>267620</th>\n",
              "      <td>06.01.2014</td>\n",
              "      <td>12</td>\n",
              "      <td>54</td>\n",
              "      <td>10376</td>\n",
              "      <td>399.0</td>\n",
              "      <td>1.0</td>\n",
              "      <td>1</td>\n",
              "      <td>6</td>\n",
              "      <td>2014</td>\n",
              "    </tr>\n",
              "    <tr>\n",
              "      <th>267691</th>\n",
              "      <td>06.01.2014</td>\n",
              "      <td>12</td>\n",
              "      <td>54</td>\n",
              "      <td>10059</td>\n",
              "      <td>349.0</td>\n",
              "      <td>1.0</td>\n",
              "      <td>1</td>\n",
              "      <td>6</td>\n",
              "      <td>2014</td>\n",
              "    </tr>\n",
              "    <tr>\n",
              "      <th>267692</th>\n",
              "      <td>06.01.2014</td>\n",
              "      <td>12</td>\n",
              "      <td>54</td>\n",
              "      <td>10063</td>\n",
              "      <td>149.0</td>\n",
              "      <td>1.0</td>\n",
              "      <td>1</td>\n",
              "      <td>6</td>\n",
              "      <td>2014</td>\n",
              "    </tr>\n",
              "    <tr>\n",
              "      <th>267700</th>\n",
              "      <td>06.01.2014</td>\n",
              "      <td>12</td>\n",
              "      <td>54</td>\n",
              "      <td>10078</td>\n",
              "      <td>349.0</td>\n",
              "      <td>2.0</td>\n",
              "      <td>1</td>\n",
              "      <td>6</td>\n",
              "      <td>2014</td>\n",
              "    </tr>\n",
              "    <tr>\n",
              "      <th>...</th>\n",
              "      <td>...</td>\n",
              "      <td>...</td>\n",
              "      <td>...</td>\n",
              "      <td>...</td>\n",
              "      <td>...</td>\n",
              "      <td>...</td>\n",
              "      <td>...</td>\n",
              "      <td>...</td>\n",
              "      <td>...</td>\n",
              "    </tr>\n",
              "    <tr>\n",
              "      <th>1323356</th>\n",
              "      <td>06.12.2014</td>\n",
              "      <td>23</td>\n",
              "      <td>25</td>\n",
              "      <td>6051</td>\n",
              "      <td>399.0</td>\n",
              "      <td>1.0</td>\n",
              "      <td>12</td>\n",
              "      <td>6</td>\n",
              "      <td>2014</td>\n",
              "    </tr>\n",
              "    <tr>\n",
              "      <th>1323382</th>\n",
              "      <td>06.12.2014</td>\n",
              "      <td>23</td>\n",
              "      <td>25</td>\n",
              "      <td>6185</td>\n",
              "      <td>499.0</td>\n",
              "      <td>1.0</td>\n",
              "      <td>12</td>\n",
              "      <td>6</td>\n",
              "      <td>2014</td>\n",
              "    </tr>\n",
              "    <tr>\n",
              "      <th>1323389</th>\n",
              "      <td>06.12.2014</td>\n",
              "      <td>23</td>\n",
              "      <td>25</td>\n",
              "      <td>6377</td>\n",
              "      <td>2199.0</td>\n",
              "      <td>1.0</td>\n",
              "      <td>12</td>\n",
              "      <td>6</td>\n",
              "      <td>2014</td>\n",
              "    </tr>\n",
              "    <tr>\n",
              "      <th>1323417</th>\n",
              "      <td>06.12.2014</td>\n",
              "      <td>23</td>\n",
              "      <td>25</td>\n",
              "      <td>5037</td>\n",
              "      <td>2599.0</td>\n",
              "      <td>1.0</td>\n",
              "      <td>12</td>\n",
              "      <td>6</td>\n",
              "      <td>2014</td>\n",
              "    </tr>\n",
              "    <tr>\n",
              "      <th>1323421</th>\n",
              "      <td>06.12.2014</td>\n",
              "      <td>23</td>\n",
              "      <td>25</td>\n",
              "      <td>5033</td>\n",
              "      <td>1199.0</td>\n",
              "      <td>1.0</td>\n",
              "      <td>12</td>\n",
              "      <td>6</td>\n",
              "      <td>2014</td>\n",
              "    </tr>\n",
              "  </tbody>\n",
              "</table>\n",
              "<p>83513 rows × 9 columns</p>\n",
              "</div>"
            ],
            "text/plain": [
              "               date  date_block_num  shop_id  ...  day  month  year\n",
              "267591   06.01.2014              12       54  ...    1      6  2014\n",
              "267620   06.01.2014              12       54  ...    1      6  2014\n",
              "267691   06.01.2014              12       54  ...    1      6  2014\n",
              "267692   06.01.2014              12       54  ...    1      6  2014\n",
              "267700   06.01.2014              12       54  ...    1      6  2014\n",
              "...             ...             ...      ...  ...  ...    ...   ...\n",
              "1323356  06.12.2014              23       25  ...   12      6  2014\n",
              "1323382  06.12.2014              23       25  ...   12      6  2014\n",
              "1323389  06.12.2014              23       25  ...   12      6  2014\n",
              "1323417  06.12.2014              23       25  ...   12      6  2014\n",
              "1323421  06.12.2014              23       25  ...   12      6  2014\n",
              "\n",
              "[83513 rows x 9 columns]"
            ]
          },
          "metadata": {
            "tags": []
          },
          "execution_count": 11
        }
      ]
    },
    {
      "cell_type": "code",
      "metadata": {
        "id": "pYcJIra3YjJ7",
        "colab_type": "code",
        "outputId": "0896d5fb-c389-44e9-feb5-9534f00f7ba4",
        "colab": {
          "base_uri": "https://localhost:8080/",
          "height": 34
        }
      },
      "source": [
        "max_revenue = transactions.item_price.sum()\n",
        "max_revenue"
      ],
      "execution_count": 0,
      "outputs": [
        {
          "output_type": "execute_result",
          "data": {
            "text/plain": [
              "75642550.19470012"
            ]
          },
          "metadata": {
            "tags": []
          },
          "execution_count": 196
        }
      ]
    },
    {
      "cell_type": "code",
      "metadata": {
        "id": "mM_oIH8UmKgo",
        "colab_type": "code",
        "outputId": "e409a127-a3ca-4702-944c-c025a13b0fca",
        "colab": {
          "base_uri": "https://localhost:8080/",
          "height": 450
        }
      },
      "source": [
        "transactions.groupby(\"item_id\").item_price.agg([\"min\", \"max\"])"
      ],
      "execution_count": 0,
      "outputs": [
        {
          "output_type": "execute_result",
          "data": {
            "text/html": [
              "<div>\n",
              "<style scoped>\n",
              "    .dataframe tbody tr th:only-of-type {\n",
              "        vertical-align: middle;\n",
              "    }\n",
              "\n",
              "    .dataframe tbody tr th {\n",
              "        vertical-align: top;\n",
              "    }\n",
              "\n",
              "    .dataframe thead th {\n",
              "        text-align: right;\n",
              "    }\n",
              "</style>\n",
              "<table border=\"1\" class=\"dataframe\">\n",
              "  <thead>\n",
              "    <tr style=\"text-align: right;\">\n",
              "      <th></th>\n",
              "      <th>min</th>\n",
              "      <th>max</th>\n",
              "    </tr>\n",
              "    <tr>\n",
              "      <th>item_id</th>\n",
              "      <th></th>\n",
              "      <th></th>\n",
              "    </tr>\n",
              "  </thead>\n",
              "  <tbody>\n",
              "    <tr>\n",
              "      <th>0</th>\n",
              "      <td>58.0</td>\n",
              "      <td>58.0</td>\n",
              "    </tr>\n",
              "    <tr>\n",
              "      <th>1</th>\n",
              "      <td>4490.0</td>\n",
              "      <td>4490.0</td>\n",
              "    </tr>\n",
              "    <tr>\n",
              "      <th>2</th>\n",
              "      <td>58.0</td>\n",
              "      <td>58.0</td>\n",
              "    </tr>\n",
              "    <tr>\n",
              "      <th>3</th>\n",
              "      <td>58.0</td>\n",
              "      <td>100.0</td>\n",
              "    </tr>\n",
              "    <tr>\n",
              "      <th>4</th>\n",
              "      <td>58.0</td>\n",
              "      <td>58.0</td>\n",
              "    </tr>\n",
              "    <tr>\n",
              "      <th>...</th>\n",
              "      <td>...</td>\n",
              "      <td>...</td>\n",
              "    </tr>\n",
              "    <tr>\n",
              "      <th>22162</th>\n",
              "      <td>28.0</td>\n",
              "      <td>28.0</td>\n",
              "    </tr>\n",
              "    <tr>\n",
              "      <th>22165</th>\n",
              "      <td>59.0</td>\n",
              "      <td>59.0</td>\n",
              "    </tr>\n",
              "    <tr>\n",
              "      <th>22166</th>\n",
              "      <td>150.0</td>\n",
              "      <td>150.0</td>\n",
              "    </tr>\n",
              "    <tr>\n",
              "      <th>22167</th>\n",
              "      <td>155.0</td>\n",
              "      <td>299.0</td>\n",
              "    </tr>\n",
              "    <tr>\n",
              "      <th>22169</th>\n",
              "      <td>4349.0</td>\n",
              "      <td>4349.0</td>\n",
              "    </tr>\n",
              "  </tbody>\n",
              "</table>\n",
              "<p>15600 rows × 2 columns</p>\n",
              "</div>"
            ],
            "text/plain": [
              "            min     max\n",
              "item_id                \n",
              "0          58.0    58.0\n",
              "1        4490.0  4490.0\n",
              "2          58.0    58.0\n",
              "3          58.0   100.0\n",
              "4          58.0    58.0\n",
              "...         ...     ...\n",
              "22162      28.0    28.0\n",
              "22165      59.0    59.0\n",
              "22166     150.0   150.0\n",
              "22167     155.0   299.0\n",
              "22169    4349.0  4349.0\n",
              "\n",
              "[15600 rows x 2 columns]"
            ]
          },
          "metadata": {
            "tags": []
          },
          "execution_count": 15
        }
      ]
    },
    {
      "cell_type": "code",
      "metadata": {
        "id": "t9Rd99i2Yw4U",
        "colab_type": "code",
        "colab": {}
      },
      "source": [
        "transactions.duplicated().sum()"
      ],
      "execution_count": 0,
      "outputs": []
    },
    {
      "cell_type": "code",
      "metadata": {
        "id": "S942EQMEPs0_",
        "colab_type": "code",
        "colab": {}
      },
      "source": [
        "# shop_id = 25, in December, 2014\n",
        "total_num_items_sold = transactions[(transactions[\"year\"]==2014) & (transactions[\"shop_id\"]==25) & (transactions[\"month\"]==12) & (transactions)[\"item_cnt_day\"]>0]\n",
        "transactions\n",
        "total_num_items_sold"
      ],
      "execution_count": 0,
      "outputs": []
    },
    {
      "cell_type": "code",
      "metadata": {
        "id": "NL1rR0tsQeRE",
        "colab_type": "code",
        "colab": {}
      },
      "source": [
        "total_num_items_sold = transactions.groupby(\"day\").item_price.sum() # sum of sales per day  \n",
        "total_num_items_sold"
      ],
      "execution_count": 0,
      "outputs": []
    },
    {
      "cell_type": "code",
      "metadata": {
        "id": "HZWDV3EeSdaG",
        "colab_type": "code",
        "colab": {}
      },
      "source": [
        "import numpy as np # "
      ],
      "execution_count": 0,
      "outputs": []
    },
    {
      "cell_type": "code",
      "metadata": {
        "id": "mJKohpgsS4TQ",
        "colab_type": "code",
        "outputId": "9527420c-fbd3-4a4a-80fb-40cfe14f2063",
        "colab": {
          "base_uri": "https://localhost:8080/",
          "height": 34
        }
      },
      "source": [
        "total_num_items_sold_var = total_num_items_sold.var() # the variance of the number of sold items per day sequence for the shop with shop_id = 25 in December, 2014\n",
        "total_num_items_sold_var"
      ],
      "execution_count": 0,
      "outputs": [
        {
          "output_type": "execute_result",
          "data": {
            "text/plain": [
              "209172024578763.3"
            ]
          },
          "metadata": {
            "tags": []
          },
          "execution_count": 24
        }
      ]
    },
    {
      "cell_type": "code",
      "metadata": {
        "id": "Lbi_4LfiTxZD",
        "colab_type": "code",
        "colab": {}
      },
      "source": [
        "import matplotlib.pyplot as plt"
      ],
      "execution_count": 0,
      "outputs": []
    },
    {
      "cell_type": "code",
      "metadata": {
        "id": "ZYcwj404T6YX",
        "colab_type": "code",
        "colab": {}
      },
      "source": [
        "%matplotlib inline"
      ],
      "execution_count": 0,
      "outputs": []
    },
    {
      "cell_type": "code",
      "metadata": {
        "id": "9cKgvQLIT-88",
        "colab_type": "code",
        "colab": {}
      },
      "source": [
        "transactions.plot(kind='scatter', x='day', y='item_price', title='Daily items sold for shop_id = 25');"
      ],
      "execution_count": 0,
      "outputs": []
    },
    {
      "cell_type": "code",
      "metadata": {
        "id": "nA0aiYwLV-hL",
        "colab_type": "code",
        "colab": {}
      },
      "source": [
        "#definition of Spring is March to Mai.\n",
        "spring = transactions[(transactions[\"year\"]==2014) & (transactions[\"item_cnt_day\"]>0) & (transactions[\"month\"] >=3) & (transactions[\"month\"] <=5 )]\n",
        "spring"
      ],
      "execution_count": 0,
      "outputs": []
    },
    {
      "cell_type": "code",
      "metadata": {
        "id": "3bhCowh8VeBa",
        "colab_type": "code",
        "colab": {}
      },
      "source": [
        "category_id_with_max_revenue = spring.groupby(\"item_id\").item_price.sum()\n",
        "category_id_with_max_revenue #list of item revenues sorted by item_id"
      ],
      "execution_count": 0,
      "outputs": []
    },
    {
      "cell_type": "code",
      "metadata": {
        "id": "4cer8UKFWUqf",
        "colab_type": "code",
        "outputId": "178a5148-bef5-46ad-83fe-af95b4d6a3fc",
        "colab": {
          "base_uri": "https://localhost:8080/",
          "height": 34
        }
      },
      "source": [
        "category_id_with_max_revenue.max() #the highest revenue in spring 2014"
      ],
      "execution_count": 0,
      "outputs": [
        {
          "output_type": "execute_result",
          "data": {
            "text/plain": [
              "20589017.146825302"
            ]
          },
          "metadata": {
            "tags": []
          },
          "execution_count": 35
        }
      ]
    }
  ]
}